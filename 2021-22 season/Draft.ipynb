{
 "cells": [
  {
   "cell_type": "code",
   "execution_count": 201,
   "metadata": {
    "collapsed": true
   },
   "outputs": [
    {
     "data": {
      "text/plain": "<module 'load_data' from '/Users/calum/Documents/Cals-Fantasy-football/2021-22 season/load_data.py'>"
     },
     "execution_count": 201,
     "metadata": {},
     "output_type": "execute_result"
    }
   ],
   "source": [
    "import pandas as pd\n",
    "import load_data\n",
    "import numpy as np\n",
    "from importlib import reload\n",
    "import requests\n",
    "from importlib import reload\n",
    "from tqdm import tqdm\n",
    "\n",
    "reload(load_data)"
   ]
  },
  {
   "cell_type": "markdown",
   "source": [
    "# Load MVP dataset"
   ],
   "metadata": {
    "collapsed": false,
    "pycharm": {
     "name": "#%% md\n"
    }
   }
  },
  {
   "cell_type": "code",
   "execution_count": 202,
   "outputs": [
    {
     "name": "stderr",
     "output_type": "stream",
     "text": [
      "100%|██████████| 566/566 [01:10<00:00,  8.06it/s]\n"
     ]
    }
   ],
   "source": [
    "MVP_dataset = load_data.load_MVP_data()"
   ],
   "metadata": {
    "collapsed": false,
    "pycharm": {
     "name": "#%%\n"
    }
   }
  },
  {
   "cell_type": "code",
   "execution_count": 203,
   "outputs": [
    {
     "data": {
      "text/plain": "      player_first_name player_second_name  player_ID  \\\n0                 Bernd               Leno          1   \n1                 Bernd               Leno          1   \n2                 Bernd               Leno          1   \n3                 Bernd               Leno          1   \n4                 Bernd               Leno          1   \n...                 ...                ...        ...   \n19567         Christian            Marques        549   \n19568         Christian            Marques        549   \n19569         Christian            Marques        549   \n19570         Christian            Marques        549   \n19571         Christian            Marques        549   \n\n       player_chance_of_playing_next_round player_position player_news  \\\n0                                      1.0      Goalkeeper               \n1                                      1.0      Goalkeeper               \n2                                      1.0      Goalkeeper               \n3                                      1.0      Goalkeeper               \n4                                      1.0      Goalkeeper               \n...                                    ...             ...         ...   \n19567                                  1.0        Defender               \n19568                                  1.0        Defender               \n19569                                  1.0        Defender               \n19570                                  1.0        Defender               \n19571                                  1.0        Defender               \n\n       player_cost player_status  team_ID    GW  ...  \\\n0              5.0             a        1   1.0  ...   \n1              5.0             a        1   2.0  ...   \n2              5.0             a        1   3.0  ...   \n3              5.0             a        1   4.0  ...   \n4              5.0             a        1   5.0  ...   \n...            ...           ...      ...   ...  ...   \n19567          4.0             a       20  34.0  ...   \n19568          4.0             a       20  35.0  ...   \n19569          4.0             a       20  36.0  ...   \n19570          4.0             a       20  37.0  ...   \n19571          4.0             a       20  38.0  ...   \n\n      last_season_penalties_missed  last_season_yellow_cards  \\\n0                              0.0                       0.0   \n1                              0.0                       0.0   \n2                              0.0                       0.0   \n3                              0.0                       0.0   \n4                              0.0                       0.0   \n...                            ...                       ...   \n19567                          0.0                       0.0   \n19568                          0.0                       0.0   \n19569                          0.0                       0.0   \n19570                          0.0                       0.0   \n19571                          0.0                       0.0   \n\n      last_season_red_cards  last_season_saves  last_season_bonus  \\\n0                       1.0               86.0               11.0   \n1                       1.0               86.0               11.0   \n2                       1.0               86.0               11.0   \n3                       1.0               86.0               11.0   \n4                       1.0               86.0               11.0   \n...                     ...                ...                ...   \n19567                   0.0                0.0                0.0   \n19568                   0.0                0.0                0.0   \n19569                   0.0                0.0                0.0   \n19570                   0.0                0.0                0.0   \n19571                   0.0                0.0                0.0   \n\n       last_season_bps  last_season_influence  last_season_creativity  \\\n0                625.0                  702.2                     0.0   \n1                625.0                  702.2                     0.0   \n2                625.0                  702.2                     0.0   \n3                625.0                  702.2                     0.0   \n4                625.0                  702.2                     0.0   \n...                ...                    ...                     ...   \n19567              0.0                    0.0                     0.0   \n19568              0.0                    0.0                     0.0   \n19569              0.0                    0.0                     0.0   \n19570              0.0                    0.0                     0.0   \n19571              0.0                    0.0                     0.0   \n\n       last_season_threat  last_season_ict_index  \n0                     2.0                   70.3  \n1                     2.0                   70.3  \n2                     2.0                   70.3  \n3                     2.0                   70.3  \n4                     2.0                   70.3  \n...                   ...                    ...  \n19567                 0.0                    0.0  \n19568                 0.0                    0.0  \n19569                 0.0                    0.0  \n19570                 0.0                    0.0  \n19571                 0.0                    0.0  \n\n[19572 rows x 35 columns]",
      "text/html": "<div>\n<style scoped>\n    .dataframe tbody tr th:only-of-type {\n        vertical-align: middle;\n    }\n\n    .dataframe tbody tr th {\n        vertical-align: top;\n    }\n\n    .dataframe thead th {\n        text-align: right;\n    }\n</style>\n<table border=\"1\" class=\"dataframe\">\n  <thead>\n    <tr style=\"text-align: right;\">\n      <th></th>\n      <th>player_first_name</th>\n      <th>player_second_name</th>\n      <th>player_ID</th>\n      <th>player_chance_of_playing_next_round</th>\n      <th>player_position</th>\n      <th>player_news</th>\n      <th>player_cost</th>\n      <th>player_status</th>\n      <th>team_ID</th>\n      <th>GW</th>\n      <th>...</th>\n      <th>last_season_penalties_missed</th>\n      <th>last_season_yellow_cards</th>\n      <th>last_season_red_cards</th>\n      <th>last_season_saves</th>\n      <th>last_season_bonus</th>\n      <th>last_season_bps</th>\n      <th>last_season_influence</th>\n      <th>last_season_creativity</th>\n      <th>last_season_threat</th>\n      <th>last_season_ict_index</th>\n    </tr>\n  </thead>\n  <tbody>\n    <tr>\n      <th>0</th>\n      <td>Bernd</td>\n      <td>Leno</td>\n      <td>1</td>\n      <td>1.0</td>\n      <td>Goalkeeper</td>\n      <td></td>\n      <td>5.0</td>\n      <td>a</td>\n      <td>1</td>\n      <td>1.0</td>\n      <td>...</td>\n      <td>0.0</td>\n      <td>0.0</td>\n      <td>1.0</td>\n      <td>86.0</td>\n      <td>11.0</td>\n      <td>625.0</td>\n      <td>702.2</td>\n      <td>0.0</td>\n      <td>2.0</td>\n      <td>70.3</td>\n    </tr>\n    <tr>\n      <th>1</th>\n      <td>Bernd</td>\n      <td>Leno</td>\n      <td>1</td>\n      <td>1.0</td>\n      <td>Goalkeeper</td>\n      <td></td>\n      <td>5.0</td>\n      <td>a</td>\n      <td>1</td>\n      <td>2.0</td>\n      <td>...</td>\n      <td>0.0</td>\n      <td>0.0</td>\n      <td>1.0</td>\n      <td>86.0</td>\n      <td>11.0</td>\n      <td>625.0</td>\n      <td>702.2</td>\n      <td>0.0</td>\n      <td>2.0</td>\n      <td>70.3</td>\n    </tr>\n    <tr>\n      <th>2</th>\n      <td>Bernd</td>\n      <td>Leno</td>\n      <td>1</td>\n      <td>1.0</td>\n      <td>Goalkeeper</td>\n      <td></td>\n      <td>5.0</td>\n      <td>a</td>\n      <td>1</td>\n      <td>3.0</td>\n      <td>...</td>\n      <td>0.0</td>\n      <td>0.0</td>\n      <td>1.0</td>\n      <td>86.0</td>\n      <td>11.0</td>\n      <td>625.0</td>\n      <td>702.2</td>\n      <td>0.0</td>\n      <td>2.0</td>\n      <td>70.3</td>\n    </tr>\n    <tr>\n      <th>3</th>\n      <td>Bernd</td>\n      <td>Leno</td>\n      <td>1</td>\n      <td>1.0</td>\n      <td>Goalkeeper</td>\n      <td></td>\n      <td>5.0</td>\n      <td>a</td>\n      <td>1</td>\n      <td>4.0</td>\n      <td>...</td>\n      <td>0.0</td>\n      <td>0.0</td>\n      <td>1.0</td>\n      <td>86.0</td>\n      <td>11.0</td>\n      <td>625.0</td>\n      <td>702.2</td>\n      <td>0.0</td>\n      <td>2.0</td>\n      <td>70.3</td>\n    </tr>\n    <tr>\n      <th>4</th>\n      <td>Bernd</td>\n      <td>Leno</td>\n      <td>1</td>\n      <td>1.0</td>\n      <td>Goalkeeper</td>\n      <td></td>\n      <td>5.0</td>\n      <td>a</td>\n      <td>1</td>\n      <td>5.0</td>\n      <td>...</td>\n      <td>0.0</td>\n      <td>0.0</td>\n      <td>1.0</td>\n      <td>86.0</td>\n      <td>11.0</td>\n      <td>625.0</td>\n      <td>702.2</td>\n      <td>0.0</td>\n      <td>2.0</td>\n      <td>70.3</td>\n    </tr>\n    <tr>\n      <th>...</th>\n      <td>...</td>\n      <td>...</td>\n      <td>...</td>\n      <td>...</td>\n      <td>...</td>\n      <td>...</td>\n      <td>...</td>\n      <td>...</td>\n      <td>...</td>\n      <td>...</td>\n      <td>...</td>\n      <td>...</td>\n      <td>...</td>\n      <td>...</td>\n      <td>...</td>\n      <td>...</td>\n      <td>...</td>\n      <td>...</td>\n      <td>...</td>\n      <td>...</td>\n      <td>...</td>\n    </tr>\n    <tr>\n      <th>19567</th>\n      <td>Christian</td>\n      <td>Marques</td>\n      <td>549</td>\n      <td>1.0</td>\n      <td>Defender</td>\n      <td></td>\n      <td>4.0</td>\n      <td>a</td>\n      <td>20</td>\n      <td>34.0</td>\n      <td>...</td>\n      <td>0.0</td>\n      <td>0.0</td>\n      <td>0.0</td>\n      <td>0.0</td>\n      <td>0.0</td>\n      <td>0.0</td>\n      <td>0.0</td>\n      <td>0.0</td>\n      <td>0.0</td>\n      <td>0.0</td>\n    </tr>\n    <tr>\n      <th>19568</th>\n      <td>Christian</td>\n      <td>Marques</td>\n      <td>549</td>\n      <td>1.0</td>\n      <td>Defender</td>\n      <td></td>\n      <td>4.0</td>\n      <td>a</td>\n      <td>20</td>\n      <td>35.0</td>\n      <td>...</td>\n      <td>0.0</td>\n      <td>0.0</td>\n      <td>0.0</td>\n      <td>0.0</td>\n      <td>0.0</td>\n      <td>0.0</td>\n      <td>0.0</td>\n      <td>0.0</td>\n      <td>0.0</td>\n      <td>0.0</td>\n    </tr>\n    <tr>\n      <th>19569</th>\n      <td>Christian</td>\n      <td>Marques</td>\n      <td>549</td>\n      <td>1.0</td>\n      <td>Defender</td>\n      <td></td>\n      <td>4.0</td>\n      <td>a</td>\n      <td>20</td>\n      <td>36.0</td>\n      <td>...</td>\n      <td>0.0</td>\n      <td>0.0</td>\n      <td>0.0</td>\n      <td>0.0</td>\n      <td>0.0</td>\n      <td>0.0</td>\n      <td>0.0</td>\n      <td>0.0</td>\n      <td>0.0</td>\n      <td>0.0</td>\n    </tr>\n    <tr>\n      <th>19570</th>\n      <td>Christian</td>\n      <td>Marques</td>\n      <td>549</td>\n      <td>1.0</td>\n      <td>Defender</td>\n      <td></td>\n      <td>4.0</td>\n      <td>a</td>\n      <td>20</td>\n      <td>37.0</td>\n      <td>...</td>\n      <td>0.0</td>\n      <td>0.0</td>\n      <td>0.0</td>\n      <td>0.0</td>\n      <td>0.0</td>\n      <td>0.0</td>\n      <td>0.0</td>\n      <td>0.0</td>\n      <td>0.0</td>\n      <td>0.0</td>\n    </tr>\n    <tr>\n      <th>19571</th>\n      <td>Christian</td>\n      <td>Marques</td>\n      <td>549</td>\n      <td>1.0</td>\n      <td>Defender</td>\n      <td></td>\n      <td>4.0</td>\n      <td>a</td>\n      <td>20</td>\n      <td>38.0</td>\n      <td>...</td>\n      <td>0.0</td>\n      <td>0.0</td>\n      <td>0.0</td>\n      <td>0.0</td>\n      <td>0.0</td>\n      <td>0.0</td>\n      <td>0.0</td>\n      <td>0.0</td>\n      <td>0.0</td>\n      <td>0.0</td>\n    </tr>\n  </tbody>\n</table>\n<p>19572 rows × 35 columns</p>\n</div>"
     },
     "execution_count": 203,
     "metadata": {},
     "output_type": "execute_result"
    }
   ],
   "source": [
    "MVP_dataset"
   ],
   "metadata": {
    "collapsed": false,
    "pycharm": {
     "name": "#%%\n"
    }
   }
  },
  {
   "cell_type": "code",
   "execution_count": null,
   "outputs": [],
   "source": [],
   "metadata": {
    "collapsed": false,
    "pycharm": {
     "name": "#%%\n"
    }
   }
  }
 ],
 "metadata": {
  "kernelspec": {
   "display_name": "Python 3",
   "language": "python",
   "name": "python3"
  },
  "language_info": {
   "codemirror_mode": {
    "name": "ipython",
    "version": 2
   },
   "file_extension": ".py",
   "mimetype": "text/x-python",
   "name": "python",
   "nbconvert_exporter": "python",
   "pygments_lexer": "ipython2",
   "version": "2.7.6"
  }
 },
 "nbformat": 4,
 "nbformat_minor": 0
}