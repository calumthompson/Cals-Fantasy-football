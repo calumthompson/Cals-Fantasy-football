{
 "cells": [
  {
   "cell_type": "code",
   "execution_count": 53,
   "metadata": {
    "collapsed": true
   },
   "outputs": [
    {
     "data": {
      "text/plain": "<module 'dataset_creation' from '/Users/calum/Documents/Cals-Fantasy-football/2021-22 season/dataset_creation.py'>"
     },
     "execution_count": 53,
     "metadata": {},
     "output_type": "execute_result"
    }
   ],
   "source": [
    "import pandas as pd\n",
    "import load_data\n",
    "from importlib import reload\n",
    "reload(dataset_creation)"
   ]
  },
  {
   "cell_type": "code",
   "execution_count": 30,
   "outputs": [
    {
     "data": {
      "text/plain": "    player_first_name player_second_name  player_ID  \\\n0               Bernd               Leno          1   \n1          Rúnar Alex          Rúnarsson          2   \n2             Willian    Borges Da Silva          3   \n3      Pierre-Emerick         Aubameyang          4   \n4              Cédric             Soares          5   \n..                ...                ...        ...   \n561              José     Malheiro de Sá        475   \n562           Patrick            Cutrone        523   \n563              Luke             Cundle        547   \n564              Chem           Campbell        548   \n565         Christian            Marques        549   \n\n     player_chance_of_playing_next_round  player_position  \\\n0                                    NaN                1   \n1                                    0.0                1   \n2                                   50.0                3   \n3                                  100.0                4   \n4                                    NaN                2   \n..                                   ...              ...   \n561                                  NaN                1   \n562                                  0.0                4   \n563                                  NaN                3   \n564                                  NaN                3   \n565                                  NaN                2   \n\n                         player_news  player_cost player_status  team_ID  \n0                                              50             a        1  \n1     Illness - Expected back 28 Aug           40             i        1  \n2    Illness - 50% chance of playing           64             d        1  \n3                                              99             a        1  \n4                                              45             a        1  \n..                               ...          ...           ...      ...  \n561                                            50             a       20  \n562       Season long loan to Empoli           50             u       20  \n563                                            45             a       20  \n564                                            45             a       20  \n565                                            40             a       20  \n\n[566 rows x 9 columns]",
      "text/html": "<div>\n<style scoped>\n    .dataframe tbody tr th:only-of-type {\n        vertical-align: middle;\n    }\n\n    .dataframe tbody tr th {\n        vertical-align: top;\n    }\n\n    .dataframe thead th {\n        text-align: right;\n    }\n</style>\n<table border=\"1\" class=\"dataframe\">\n  <thead>\n    <tr style=\"text-align: right;\">\n      <th></th>\n      <th>player_first_name</th>\n      <th>player_second_name</th>\n      <th>player_ID</th>\n      <th>player_chance_of_playing_next_round</th>\n      <th>player_position</th>\n      <th>player_news</th>\n      <th>player_cost</th>\n      <th>player_status</th>\n      <th>team_ID</th>\n    </tr>\n  </thead>\n  <tbody>\n    <tr>\n      <th>0</th>\n      <td>Bernd</td>\n      <td>Leno</td>\n      <td>1</td>\n      <td>NaN</td>\n      <td>1</td>\n      <td></td>\n      <td>50</td>\n      <td>a</td>\n      <td>1</td>\n    </tr>\n    <tr>\n      <th>1</th>\n      <td>Rúnar Alex</td>\n      <td>Rúnarsson</td>\n      <td>2</td>\n      <td>0.0</td>\n      <td>1</td>\n      <td>Illness - Expected back 28 Aug</td>\n      <td>40</td>\n      <td>i</td>\n      <td>1</td>\n    </tr>\n    <tr>\n      <th>2</th>\n      <td>Willian</td>\n      <td>Borges Da Silva</td>\n      <td>3</td>\n      <td>50.0</td>\n      <td>3</td>\n      <td>Illness - 50% chance of playing</td>\n      <td>64</td>\n      <td>d</td>\n      <td>1</td>\n    </tr>\n    <tr>\n      <th>3</th>\n      <td>Pierre-Emerick</td>\n      <td>Aubameyang</td>\n      <td>4</td>\n      <td>100.0</td>\n      <td>4</td>\n      <td></td>\n      <td>99</td>\n      <td>a</td>\n      <td>1</td>\n    </tr>\n    <tr>\n      <th>4</th>\n      <td>Cédric</td>\n      <td>Soares</td>\n      <td>5</td>\n      <td>NaN</td>\n      <td>2</td>\n      <td></td>\n      <td>45</td>\n      <td>a</td>\n      <td>1</td>\n    </tr>\n    <tr>\n      <th>...</th>\n      <td>...</td>\n      <td>...</td>\n      <td>...</td>\n      <td>...</td>\n      <td>...</td>\n      <td>...</td>\n      <td>...</td>\n      <td>...</td>\n      <td>...</td>\n    </tr>\n    <tr>\n      <th>561</th>\n      <td>José</td>\n      <td>Malheiro de Sá</td>\n      <td>475</td>\n      <td>NaN</td>\n      <td>1</td>\n      <td></td>\n      <td>50</td>\n      <td>a</td>\n      <td>20</td>\n    </tr>\n    <tr>\n      <th>562</th>\n      <td>Patrick</td>\n      <td>Cutrone</td>\n      <td>523</td>\n      <td>0.0</td>\n      <td>4</td>\n      <td>Season long loan to Empoli</td>\n      <td>50</td>\n      <td>u</td>\n      <td>20</td>\n    </tr>\n    <tr>\n      <th>563</th>\n      <td>Luke</td>\n      <td>Cundle</td>\n      <td>547</td>\n      <td>NaN</td>\n      <td>3</td>\n      <td></td>\n      <td>45</td>\n      <td>a</td>\n      <td>20</td>\n    </tr>\n    <tr>\n      <th>564</th>\n      <td>Chem</td>\n      <td>Campbell</td>\n      <td>548</td>\n      <td>NaN</td>\n      <td>3</td>\n      <td></td>\n      <td>45</td>\n      <td>a</td>\n      <td>20</td>\n    </tr>\n    <tr>\n      <th>565</th>\n      <td>Christian</td>\n      <td>Marques</td>\n      <td>549</td>\n      <td>NaN</td>\n      <td>2</td>\n      <td></td>\n      <td>40</td>\n      <td>a</td>\n      <td>20</td>\n    </tr>\n  </tbody>\n</table>\n<p>566 rows × 9 columns</p>\n</div>"
     },
     "execution_count": 30,
     "metadata": {},
     "output_type": "execute_result"
    }
   ],
   "source": [
    "test = load_data.generate_dataset()\n",
    "test"
   ],
   "metadata": {
    "collapsed": false,
    "pycharm": {
     "name": "#%%\n"
    }
   }
  }
 ],
 "metadata": {
  "kernelspec": {
   "display_name": "Python 3",
   "language": "python",
   "name": "python3"
  },
  "language_info": {
   "codemirror_mode": {
    "name": "ipython",
    "version": 2
   },
   "file_extension": ".py",
   "mimetype": "text/x-python",
   "name": "python",
   "nbconvert_exporter": "python",
   "pygments_lexer": "ipython2",
   "version": "2.7.6"
  }
 },
 "nbformat": 4,
 "nbformat_minor": 0
}