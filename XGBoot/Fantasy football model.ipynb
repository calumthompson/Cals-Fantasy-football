{
 "cells": [
  {
   "cell_type": "markdown",
   "metadata": {},
   "source": [
    "# Github repo summary\n",
    "\n",
    "<h3>Data Structure</h3>\n",
    "<p>The data folder contains the data from past seasons as well as the current season. It is structured as follows:</p>\n",
    "<ul>\n",
    "<li>season/cleaned_players.csv : The overview stats for the season</li>\n",
    "<li>season/gws/gw_number.csv : GW-specific stats for the particular season</li>\n",
    "<li>season/gws/merged_gws.csv : GW-by-GW stats for each player in a single file</li>\n",
    "<li>season/players/player_name/gws.csv : GW-by-GW stats for that specific player</li>\n",
    "<li>season/players/player_name/history.csv : Prior seasons history stats for that specific player.</li>\n",
    "</ul>\n",
    "<h3>Player Position Data</h3>\n",
    "<p>In players_raw.csv, element_type is the field that corresponds to the position.\n",
    "1 = GK\n",
    "2 = DEF\n",
    "3 = MID\n",
    "4 = FWD</p>\n",
    "\n",
    "<h2>Downloading Your Team Data</h2>\n",
    "<p>You can download the data for your team by executing the following steps:</p>\n",
    "<p>```\n",
    "python teams_scraper.py <team_id></p>\n",
    "\n",
    "<p>Eg: python teams_scraper.py 4582</p>\n",
    "<p>```</p>\n",
    "<p>This will create a new folder called \"team_<team_id>_data18-19\" with individual files of all the important data</p>\n",
    "<h2>Notable Usages of this Repository</h2>\n",
    "<ul>\n",
    "<li>\n",
    "<p><a href=\"https://www.reddit.com/r/FantasyPL/comments/erfdy1/a_plot_of_xg_vs_xa_for_for_attacking_midsforwards/\">xA vs xG for Attacking Midfielders/Forwards by u/JLane1996</a></p>\n",
    "</li>\n",
    "<li>\n",
    "<p><a href=\"https://www.reddit.com/r/reddevils/comments/ecbn9j/corrected_plot_of_goals_vs_expected_goals_this/fba8vs3/\">Expected Goals vs Actual Goals for Manchester United by u/JLane1996</a></p>\n",
    "</li>\n",
    "<li>\n",
    "<p><a href=\"https://www.reddit.com/r/tableau/comments/e2j0uq/my_first_tableu_viz_fpl/\">Tableau Viz by u/richkelana</a></p>\n",
    "</li>\n",
    "<li>\n",
    "<p><a href=\"https://www.reddit.com/r/FantasyPL/comments/dz04hf/top_players_against_gw13_rival/\">Top Players against GW13 rival by u/LiuSiuMing</a></p>\n",
    "</li>\n",
    "<li>\n",
    "<p><a href=\"https://mbarnfield.github.io/fpl.html\">Captaincy Choice GW4 2019-20 post by Matthew Barnfield</a></p>\n",
    "</li>\n",
    "<li>\n",
    "<p><a href=\"http://www.didjfin.no/blog/fpl/fantasy-premier-league-data/\">Building a dataset for Fantasy Premier League analysis by djfinnoy</a></p>\n",
    "</li>\n",
    "<li>\n",
    "<p><a href=\"https://whogottheassist.com/value-in-fpl-2019-20-report/\">Value in FPL 2019-20 Report by Who Got The Assist?</a></p>\n",
    "</li>\n",
    "<li>\n",
    "<p><a href=\"https://whogottheassist.com/talisman-theory-part-one-2018-19-report/\">Talisman Theory 2018-19 Report by Who Got The Assist?</a></p>\n",
    "</li>\n",
    "<li>\n",
    "<p><a href=\"https://twitter.com/fplscrapR\">Historical Analyses in fplscrapR by Rasmus Chrisentsen</a></p>\n",
    "</li>\n",
    "<li>\n",
    "<p><a href=\"https://medium.com/@joseph.m.oconnor.88/linearly-optimising-fantasy-premier-league-teams-3b76e9694877\">Linearly Optimising Fantasy Premier League Teams by Joseph O'Connor</a></p>\n",
    "</li>\n",
    "<li>\n",
    "<p><a href=\"https://medium.com/@sol.paul/how-to-win-at-fantasy-premier-league-using-data-part-1-forecasting-with-deep-learning-bf121f38643a\">How to Win at Fantasy Premier league using Deep learning by Paul Solomon</a></p>\n",
    "</li>\n",
    "<li>\n",
    "<p><a href=\"https://api.better-fpl.com/graphql\">graphql API by u/jeppews</a></p>\n",
    "</li>\n",
    "<li>\n",
    "<p><a href=\"https://github.com/alsgregory/Fantasy-Football\">FPL modeling and prediction by @alsgregory</a></p>\n",
    "</li>\n",
    "<li>\n",
    "<p><a href=\"http://fpl.co.id/tools/talismans/\">FPL.co.id Talismans by @FPL_COID</a></p>\n",
    "</li>\n",
    "<li>\n",
    "<p><a href=\"https://twitter.com/neilswmurrayFPL/status/1147407501736009728\">Leicester City Brendan Rodgers Impact Analysis on twitter by @neilswmurrayFPL</a></p>\n",
    "</li>\n",
    "<li>\n",
    "<p><a href=\"https://twitter.com/StatOnScout\">Stat Analysis on twitter by @StatOnScout</a></p>\n",
    "</li>\n",
    "<li>\n",
    "<p><a href=\"https://www.linkedin.com/pulse/whoever-wins-2019-uefa-europe-league-final-still-ends-velko-kamenov/\">Arsenal-Chelsea LinkedIn article by Velko Kamenov</a></p>\n",
    "</li>\n",
    "<li>\n",
    "<p><a href=\"https://towardsdatascience.com/mythbusting-fantasy-premier-league-form-over-fixtures-eecf9022e834\">Form vs Fixture Medium article by JinHyunCheong</a></p>\n",
    "</li>\n",
    "<li>\n",
    "<p><a href=\"https://www.reddit.com/r/dataisbeautiful/comments/9zlx14/points_per_game_vs_predictability_after_12_weeks/\">Visualization by u/dkattir</a></p>\n",
    "</li>\n",
    "<li>\n",
    "<p><a href=\"https://www.reddit.com/r/FantasyPL/comments/9bjwra/created_a_very_crude_and_basic_comparison_chart/\">Visualization by u/Dray11</a></p>\n",
    "</li>\n",
    "<li>\n",
    "<p><a href=\"http://fantasy.elek.hr/\">Visualization website by @antoniaelek</a></p>\n",
    "</li>\n",
    "<li>\n",
    "<p><a href=\"https://medium.com/datacomics/building-an-fpl-captain-classifier-cf4ee343ebcc\">FPL Captain Classifier by Raghunandh GS</a></p>\n",
    "</li>\n",
    "<li>\n",
    "<p><a href=\"http://vaastavanand.com/blog/\">My Personal Blog</a></p>\n",
    "</li>\n",
    "</ul>"
   ]
  },
  {
   "cell_type": "markdown",
   "metadata": {},
   "source": [
    "# FPL model AKA operation humilate my friends\n"
   ]
  },
  {
   "cell_type": "markdown",
   "metadata": {},
   "source": [
    "# Plan\n",
    "\n",
    "## 1) Build model to forecast the amount of points a player will get in any given week\n",
    ">### 1.1) Feature selection\n",
    ">>#### Long list\n",
    "- Minutes played\n",
    "- Fixture favourability (team strength stats in team file)\n",
    "- Previous (1,2,3,4) weeks score\n",
    "- Previous seasons score\n",
    "- Average weekly score over last 4 weeks \n",
    "- STDEV score over last 4 weeks \n",
    "- Average weekly score over the season (would need to be NULL in pre-season)\n",
    "- STDEV score over the season\n",
    "- Team\n",
    "- ICT\n",
    "- Clean sheets per game\n",
    "- (~~ ~~ to strikethrough)\n",
    "- Goals\n",
    "- Assists\n",
    "- \n",
    "\n",
    ">### 1.2) Select linear model algorithm\n",
    "\n",
    ">### 1.3) Evaluate on historic data\n",
    "\n",
    ">### 1.4) Apply forecast for season\n",
    "    \n",
    "\n",
    "## 2) Select starting team using linear optimisation\n",
    ">### 2.1) Design linear optimiser for selecting whole team\n",
    "- 2 Goalkeepers\n",
    "- 5 Defenders\n",
    "- 5 Midfielders\n",
    "- 3 Forwards\n",
    "- The total value of your initial squad must not exceed £100 million.\n",
    "- You can select up to 3 players from a single Premier League team.\n",
    "\n",
    ">### 2.2) Apply to forecasts for the future season to pick starting team\n",
    "\n",
    "## 3) What do I actually run each week?\n",
    "\n",
    "## 4) Model which players to select for subs, captain, vice captain etc.\n",
    "\n",
    "## 5) Model deciding whether its worth transfering\n",
    "\n",
    "## 6) When to use chips\n",
    "\n",
    "| Name | Effect |\n",
    "| ---  | ---    |\n",
    "| Bench Boost   | The points scored by your bench players in the next Gameweek are included in your total |\n",
    "|Free Hit | Make unlimited free transfers for a single Gameweek. At the next deadline your squad is returned to how it was at the start of the Gameweek.|\n",
    "|Triple Captain |\tYour captain points are tripled instead of doubled in the next Gameweek. |\n",
    "|Wildcard |\tAll transfers (including those already made) in the Gameweek are free of charge. |\n",
    "\n"
   ]
  },
  {
   "cell_type": "markdown",
   "metadata": {},
   "source": [
    "# Imports"
   ]
  },
  {
   "cell_type": "code",
   "execution_count": 7,
   "metadata": {
    "scrolled": true
   },
   "outputs": [],
   "source": [
    "import pandas as pd\n",
    "import numpy as np"
   ]
  },
  {
   "cell_type": "markdown",
   "metadata": {},
   "source": [
    "import lightgbm as lgb\n",
    "import matplotlib.pyplot as plt\n",
    "from sklearn.model_selection import train_test_split\n",
    "from sklearn.linear_model import LinearRegression\n",
    "import shap\n",
    "from sklearn.model_selection import GridSearchCV"
   ]
  },
  {
   "cell_type": "markdown",
   "metadata": {},
   "source": [
    "# Update data from GitHub\n"
   ]
  },
  {
   "cell_type": "code",
   "execution_count": 8,
   "metadata": {
    "scrolled": true
   },
   "outputs": [
    {
     "name": "stdout",
     "output_type": "stream",
     "text": [
      "Access data folder\n",
      "/Users/calumthompson/Documents/Fantasy football\n",
      "/Users/calumthompson/Documents/Fantasy football/GitHub_data\n",
      "\n",
      "Git Pull....\n",
      "Already up to date.\n",
      "Data last updated: \n",
      "/Users/calumthompson/Documents/Fantasy football/GitHub_data/data\n",
      "Mon May 18 02:06:49 2020 +0000\n",
      "\n",
      "Return to original directory\n",
      "/Users/calumthompson/Documents/Fantasy football/Cals-FF-model\n"
     ]
    }
   ],
   "source": [
    "current_dir = !pwd\n",
    "current_dir = str(current_dir[0])\n",
    "\n",
    "print(\"Access data folder\")\n",
    "%cd ..\n",
    "%cd GitHub_data\n",
    "data_address = !pwd \n",
    "\n",
    "print(\"\")\n",
    "print(\"Git Pull....\")\n",
    "! git pull\n",
    "print(\"Data last updated: \")\n",
    "%cd data\n",
    "! git show --no-patch --no-notes --pretty='%cd'\n",
    "\n",
    "\n",
    "print(\"\")\n",
    "print(\"Return to original directory\")\n",
    "%cd $current_dir"
   ]
  },
  {
   "cell_type": "markdown",
   "metadata": {},
   "source": [
    "# Notes \n",
    "\n",
    "BPS - Bonus Points System\n",
    "Cost - e.g. 127 = 12.7 million"
   ]
  },
  {
   "cell_type": "markdown",
   "metadata": {},
   "source": [
    "# Explore the data set - current season"
   ]
  },
  {
   "cell_type": "code",
   "execution_count": null,
   "metadata": {},
   "outputs": [],
   "source": []
  },
  {
   "cell_type": "code",
   "execution_count": null,
   "metadata": {},
   "outputs": [],
   "source": []
  },
  {
   "cell_type": "code",
   "execution_count": null,
   "metadata": {},
   "outputs": [],
   "source": []
  },
  {
   "cell_type": "code",
   "execution_count": null,
   "metadata": {},
   "outputs": [],
   "source": []
  },
  {
   "cell_type": "code",
   "execution_count": null,
   "metadata": {},
   "outputs": [],
   "source": []
  },
  {
   "cell_type": "code",
   "execution_count": null,
   "metadata": {},
   "outputs": [],
   "source": []
  },
  {
   "cell_type": "code",
   "execution_count": null,
   "metadata": {},
   "outputs": [],
   "source": []
  },
  {
   "cell_type": "code",
   "execution_count": null,
   "metadata": {},
   "outputs": [],
   "source": []
  },
  {
   "cell_type": "code",
   "execution_count": null,
   "metadata": {},
   "outputs": [],
   "source": []
  },
  {
   "cell_type": "markdown",
   "metadata": {},
   "source": [
    "# Old\n"
   ]
  },
  {
   "cell_type": "markdown",
   "metadata": {},
   "source": [
    "## Player performance this season"
   ]
  },
  {
   "cell_type": "code",
   "execution_count": null,
   "metadata": {},
   "outputs": [],
   "source": [
    "player_season_sum_address = '/Users/calumthompson/Documents/Fantasy football/Fantasy-Premier-League/data/2019-20/cleaned_players.csv'\n",
    "player_season_sum = pd.read_csv(player_season_sum_address)"
   ]
  },
  {
   "cell_type": "code",
   "execution_count": null,
   "metadata": {
    "scrolled": false
   },
   "outputs": [],
   "source": [
    "player_season_sum.head(10)"
   ]
  },
  {
   "cell_type": "code",
   "execution_count": null,
   "metadata": {
    "scrolled": false
   },
   "outputs": [],
   "source": [
    "player_season_sum.loc[(player_season_sum['first_name'] == 'Jamie') & (player_season_sum['second_name'] == 'Vardy')]"
   ]
  },
  {
   "cell_type": "markdown",
   "metadata": {},
   "source": [
    "## week by week player performance\n",
    "\n",
    "- name - forename_surname_### (not sure what number means)\n",
    "\n",
    "- GW - Game week\n",
    "\n",
    "- total_points - marginal points for given GW\n",
    "\n",
    "- Value - 10x cost on FPL\n"
   ]
  },
  {
   "cell_type": "code",
   "execution_count": null,
   "metadata": {},
   "outputs": [],
   "source": [
    "player_GW_address = '/Users/calumthompson/Documents/Fantasy football/Fantasy-Premier-League/data/2019-20/gws/merged_gw.csv'\n",
    "player_GW = pd.read_csv(player_GW_address)"
   ]
  },
  {
   "cell_type": "code",
   "execution_count": null,
   "metadata": {},
   "outputs": [],
   "source": [
    "player_GW.sort_values(['name','GW']).head(100)"
   ]
  },
  {
   "cell_type": "code",
   "execution_count": null,
   "metadata": {
    "scrolled": true
   },
   "outputs": [],
   "source": [
    "player_GW.loc[player_GW['name'] =='Jamie_Vardy_166'][['GW','total_points']].plot.scatter(x = 'GW', y = 'total_points')"
   ]
  },
  {
   "cell_type": "markdown",
   "metadata": {},
   "source": [
    "# Point Acquisition Stochastic System (PASS)"
   ]
  },
  {
   "cell_type": "markdown",
   "metadata": {},
   "source": [
    "## Import data"
   ]
  },
  {
   "cell_type": "code",
   "execution_count": null,
   "metadata": {},
   "outputs": [],
   "source": [
    "Season_GW_address = '/Users/calumthompson/Documents/Fantasy football/Fantasy-Premier-League/data/2018-19/gws/merged_gw.csv'\n",
    "Last_season_totals_address = '/Users/calumthompson/Documents/Fantasy football/Fantasy-Premier-League/data/2017-18/cleaned_players.csv'"
   ]
  },
  {
   "cell_type": "markdown",
   "metadata": {},
   "source": [
    "### 2018/19 GW data"
   ]
  },
  {
   "cell_type": "code",
   "execution_count": null,
   "metadata": {},
   "outputs": [],
   "source": [
    "Season_GW = pd.read_csv(Season_GW_address, encoding='latin-1')"
   ]
  },
  {
   "cell_type": "code",
   "execution_count": null,
   "metadata": {},
   "outputs": [],
   "source": [
    "Season_GW['Forename'] = Season_GW['name'].str.split('_', expand=True)[0]\n",
    "Season_GW['Surname'] = Season_GW['name'].str.split('_', expand=True)[1]"
   ]
  },
  {
   "cell_type": "code",
   "execution_count": null,
   "metadata": {},
   "outputs": [],
   "source": [
    "Season_GW = Season_GW.sort_values(['Forename','Surname','GW'])\n",
    "Season_GW.loc[Season_GW['GW'] > 1,'last_weeks_points'] = Season_GW['total_points'].shift(periods = 1)\n",
    "Season_GW.loc[Season_GW['GW'] > 2,'last_2weeks_points'] = Season_GW['total_points'].shift(periods = 2)\n",
    "Season_GW.loc[Season_GW['GW'] > 3,'last_3weeks_points'] = Season_GW['total_points'].shift(periods = 3)\n",
    "Season_GW.loc[Season_GW['GW'] > 4,'last_4weeks_points'] = Season_GW['total_points'].shift(periods = 4)\n",
    "Season_GW.loc[Season_GW['GW'] <38,'next_weeks_points'] = Season_GW['total_points'].shift(periods = -1)"
   ]
  },
  {
   "cell_type": "markdown",
   "metadata": {},
   "source": [
    "### 2017/18 season totals"
   ]
  },
  {
   "cell_type": "code",
   "execution_count": null,
   "metadata": {},
   "outputs": [],
   "source": [
    "Last_season_totals = pd.read_csv(Last_season_totals_address, encoding='latin-1')"
   ]
  },
  {
   "cell_type": "code",
   "execution_count": null,
   "metadata": {},
   "outputs": [],
   "source": [
    "Last_season_totals = Last_season_totals[['first_name', 'second_name','total_points', 'minutes', 'goals_scored', 'goals_conceded', 'selected_by_percent', 'clean_sheets','red_cards','yellow_cards']]\n",
    "\n",
    "Last_season_totals.columns = ['Forename','Surname',\n",
    "                              'last_season_total_points', 'last_season_total_minutes', \n",
    "                              'last_season_goals_scored', 'last_season_goals_conceded',\n",
    "                              'last_season_selected_by_percent', 'last_season_clean_sheets',\n",
    "                              'last_season_red_cards', 'last_season_yellow_cards']\n"
   ]
  },
  {
   "cell_type": "markdown",
   "metadata": {},
   "source": [
    "### Merge"
   ]
  },
  {
   "cell_type": "code",
   "execution_count": null,
   "metadata": {},
   "outputs": [],
   "source": [
    "Analysis_df = pd.merge(Season_GW,Last_season_totals, how = 'left', left_on = ['Forename','Surname'], right_on = ['Forename','Surname'])"
   ]
  },
  {
   "cell_type": "code",
   "execution_count": null,
   "metadata": {},
   "outputs": [],
   "source": [
    "Analysis_df = Analysis_df.fillna(0)\n",
    "Analysis_df = Analysis_df.set_index(['GW','Surname','Forename'])"
   ]
  },
  {
   "cell_type": "markdown",
   "metadata": {},
   "source": [
    "## Sense check"
   ]
  },
  {
   "cell_type": "markdown",
   "metadata": {},
   "source": [
    "### 2017/18 top point earners"
   ]
  },
  {
   "cell_type": "code",
   "execution_count": null,
   "metadata": {
    "scrolled": true
   },
   "outputs": [],
   "source": [
    "Analysis_df.groupby(['Surname','Forename']).agg({'last_season_total_points': np.mean, \n",
    "                                                 'last_season_goals_scored' :np.mean}\n",
    "                                                ).sort_values('last_season_total_points', ascending = False).head(20)"
   ]
  },
  {
   "cell_type": "markdown",
   "metadata": {},
   "source": [
    "### 2018/19 top point earners"
   ]
  },
  {
   "cell_type": "code",
   "execution_count": null,
   "metadata": {
    "scrolled": false
   },
   "outputs": [],
   "source": [
    "Analysis_df.groupby(['Surname','Forename']).agg({'total_points': sum, \n",
    "                                                 'goals_scored' :np.mean}\n",
    "                                                ).sort_values('total_points', ascending = False).head(20)"
   ]
  },
  {
   "cell_type": "code",
   "execution_count": null,
   "metadata": {
    "scrolled": false
   },
   "outputs": [],
   "source": [
    "plt.hist(x = Analysis_df['last_season_total_points'], cumulative=True, bins = 100, histtype = 'step', normed = True)\n",
    "plt.show()"
   ]
  },
  {
   "cell_type": "markdown",
   "metadata": {},
   "source": [
    "# Model"
   ]
  },
  {
   "cell_type": "code",
   "execution_count": null,
   "metadata": {
    "scrolled": true
   },
   "outputs": [],
   "source": [
    "y = Analysis_df['next_weeks_points']\n",
    "x = Analysis_df.drop(columns = ['name','next_weeks_points', 'kickoff_time', 'kickoff_time_formatted', 'was_home'])\n",
    "\n",
    "x_train, x_test, y_train, y_test = train_test_split(x, y, test_size=0.33, random_state=42)"
   ]
  },
  {
   "cell_type": "markdown",
   "metadata": {},
   "source": [
    "## Linear regression"
   ]
  },
  {
   "cell_type": "code",
   "execution_count": null,
   "metadata": {
    "scrolled": true
   },
   "outputs": [],
   "source": [
    "LinR = LinearRegression().fit(x_train, y_train)"
   ]
  },
  {
   "cell_type": "code",
   "execution_count": null,
   "metadata": {},
   "outputs": [],
   "source": [
    "r_sq = LinR.score(x_train, y_train)\n",
    "print('coefficient of determination:', r_sq)"
   ]
  },
  {
   "cell_type": "code",
   "execution_count": null,
   "metadata": {},
   "outputs": [],
   "source": [
    "y_predict = LinR.predict(x_test)"
   ]
  },
  {
   "cell_type": "code",
   "execution_count": null,
   "metadata": {
    "scrolled": true
   },
   "outputs": [],
   "source": [
    "LinRPerformance = pd.DataFrame({'Actual' : y_test, 'Prediction' : y_predict})\n",
    "LinRPerformance['Delta'] = np.abs(LinRPerformance['Actual'] - LinRPerformance['Prediction'])"
   ]
  },
  {
   "cell_type": "code",
   "execution_count": null,
   "metadata": {
    "scrolled": false
   },
   "outputs": [],
   "source": [
    "print('Average act/pred delta (abs):' , LinRPerformance.Delta.mean())"
   ]
  },
  {
   "cell_type": "code",
   "execution_count": null,
   "metadata": {
    "scrolled": false
   },
   "outputs": [],
   "source": [
    "plt.scatter(x = LinRPerformance['Actual'], y = LinRPerformance['Prediction'], label = 'Actual')\n",
    "plt.xlim(0,10)\n",
    "plt.ylim(0,10)\n",
    "plt.show()"
   ]
  },
  {
   "cell_type": "markdown",
   "metadata": {},
   "source": [
    "## LightGBM"
   ]
  },
  {
   "cell_type": "code",
   "execution_count": null,
   "metadata": {},
   "outputs": [],
   "source": [
    "LGB_PARAMS = {\n",
    "    'learning_rate': 0.063,\n",
    "    'max_depth': 5,\n",
    "    'num_leaves': 40, \n",
    "    'objective': 'regression',\n",
    "    'metric':'l2',\n",
    "    'feature_fraction': 0.75,\n",
    "    'bagging_fraction': 0.75,\n",
    "    'max_bin': 100,\n",
    "    'seed':123}\n",
    "\n",
    "\n",
    "def crossvalidate_lgb(X_train, y_train, lgb_params, num_boost_round=2000, nfold=5):\n",
    "    # form LightGBM datasets\n",
    "    dtrain_lgb = lgb.Dataset(X_train, label=y_train)\n",
    "    # LightGBM, cross-validation\n",
    "    cv_result_lgb = lgb.cv(lgb_params, \n",
    "                           dtrain_lgb, \n",
    "                           num_boost_round=num_boost_round, \n",
    "                           nfold=nfold, \n",
    "                           stratified=True, \n",
    "                           early_stopping_rounds=50, \n",
    "                           verbose_eval=10, \n",
    "                           show_stdv=True,\n",
    "                          seed=123,)\n",
    "    num_boost_rounds_lgb = len(cv_result_lgb['l2-mean'])\n",
    "    print(f'num_boost_rounds_lgb={num_boost_rounds_lgb}')\n",
    "    # train model\n",
    "    model_cv = lgb.LGBMRegressor(n_estimators=num_boost_rounds_lgb, **lgb_params)\n",
    "    model_cv.fit(X_train,y_train)\n",
    "    return cv_result_lgb, model_cv"
   ]
  },
  {
   "cell_type": "code",
   "execution_count": null,
   "metadata": {
    "scrolled": false
   },
   "outputs": [],
   "source": [
    "cross_validate_data, model = crossvalidate_lgb (x_train, y_train, lgb_params = LGB_PARAMS)"
   ]
  },
  {
   "cell_type": "code",
   "execution_count": null,
   "metadata": {},
   "outputs": [],
   "source": [
    "explainer = shap.TreeExplainer(model)\n",
    "shap_values = explainer.shap_values(x_train)\n",
    "shap.summary_plot(shap_values, x_train)"
   ]
  }
 ],
 "metadata": {
  "kernelspec": {
   "display_name": "Python 3",
   "language": "python",
   "name": "python3"
  },
  "language_info": {
   "codemirror_mode": {
    "name": "ipython",
    "version": 3
   },
   "file_extension": ".py",
   "mimetype": "text/x-python",
   "name": "python",
   "nbconvert_exporter": "python",
   "pygments_lexer": "ipython3",
   "version": "3.7.3"
  },
  "varInspector": {
   "cols": {
    "lenName": 16,
    "lenType": 16,
    "lenVar": 40
   },
   "kernels_config": {
    "python": {
     "delete_cmd_postfix": "",
     "delete_cmd_prefix": "del ",
     "library": "var_list.py",
     "varRefreshCmd": "print(var_dic_list())"
    },
    "r": {
     "delete_cmd_postfix": ") ",
     "delete_cmd_prefix": "rm(",
     "library": "var_list.r",
     "varRefreshCmd": "cat(var_dic_list()) "
    }
   },
   "types_to_exclude": [
    "module",
    "function",
    "builtin_function_or_method",
    "instance",
    "_Feature"
   ],
   "window_display": false
  }
 },
 "nbformat": 4,
 "nbformat_minor": 2
}
